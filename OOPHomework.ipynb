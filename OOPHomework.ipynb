{
 "cells": [
  {
   "cell_type": "code",
   "execution_count": 22,
   "metadata": {},
   "outputs": [
    {
     "name": "stdout",
     "output_type": "stream",
     "text": [
      "A Simple classs is created\n",
      "<class '__main__.Simpleclass'>\n",
      "class param\n",
      "second\n",
      "First\n",
      "second\n",
      "A simple method is created under class\n",
      "<class 'method'>\n"
     ]
    }
   ],
   "source": [
    "## create a simple class and method\n",
    "\n",
    "class Simpleclass:\n",
    "    \n",
    "    param = 'class param'\n",
    "    \n",
    "    def __init__(self,param1,param2):\n",
    "        print(\"A Simple classs is created\")\n",
    "        self.param1 = param1\n",
    "        self.param2 = param2\n",
    "    \n",
    "    def simplemethod(self):\n",
    "        print(\"A simple method is created under class\")\n",
    "    \n",
    "\n",
    "myclass = Simpleclass(param1 = \"First\",param2 = \"second\")\n",
    "\n",
    "print(type(myclass))\n",
    "print(myclass.param)\n",
    "print(myclass.param2)\n",
    "print(myclass.param1)\n",
    "print(myclass.param2)\n",
    "myclass.simplemethod()\n",
    "print(type(myclass.simplemethod))\n",
    "\n",
    "\n"
   ]
  },
  {
   "cell_type": "code",
   "execution_count": 113,
   "metadata": {},
   "outputs": [
    {
     "name": "stdout",
     "output_type": "stream",
     "text": [
      "Distance of a line for given co-ordinates is 8.06225774829855\n",
      "Slope of a line for given co-ordinates is 8.0\n"
     ]
    }
   ],
   "source": [
    "# create a line class to find slope and distance of a line \n",
    "# which accepts line coordinates(x1,y1)(x2,y2)\n",
    "\n",
    "class Line():\n",
    "    \n",
    "    # init method\n",
    "    def __init__(self, cor1, cor2):\n",
    "        self.cor1 = cor1\n",
    "        self.cor2 = cor2\n",
    "    \n",
    "    # method to calculate slope of line (y2-y1)/(x2-x1) by tuple unpacking\n",
    "    def slope_line(self):\n",
    "        \n",
    "        x1,y1 = self.cor1\n",
    "        x2,y2 = self.cor2\n",
    "        \n",
    "        return (y2 - y1) / (x2 - x1)\n",
    "        #return ((self.cor2[1] - self.cor1[1]) / (self.cor2[0] - self.cor1[0]))\n",
    "    \n",
    "    # method to calculate distance of line [((x2-x1)^2) + ((y2-y1)^2)]^(1/2), by tuple unpacking\n",
    "    def distance_line(self): \n",
    "        return (((self.cor2[0] - self.cor1[0]) ** 2) + ((self.cor2[1] - self.cor1[1]) ** 2)) ** (1/2)\n",
    "\n",
    "\n",
    "# co-ordinates in the form of tupels   \n",
    "coordinates1 = (7,2)\n",
    "coordinates2 = (8,10)\n",
    "\n",
    "# pass co-ordinates to the class\n",
    "lineclass = Line(coordinates1,coordinates2)\n",
    "\n",
    "print(\"Distance of a line for given co-ordinates is\",lineclass.distance_line())\n",
    "print(\"Slope of a line for given co-ordinates is\",lineclass.slope_line())\n",
    "\n",
    "\n"
   ]
  },
  {
   "cell_type": "code",
   "execution_count": 110,
   "metadata": {},
   "outputs": [
    {
     "name": "stdout",
     "output_type": "stream",
     "text": [
      "volume of a cylinder is 56.57142857142857\n",
      "curved surface area of a cylinder is 37.714285714285715\n",
      "surface area of cylinder is 94.28571428571429\n"
     ]
    }
   ],
   "source": [
    "# write a class cylinder to find its volume and surface area\n",
    "\n",
    "class Cylinder():\n",
    "    \n",
    "    Pi = 22/7\n",
    "    \n",
    "    def __init__(self,hight = float(1) , radius = float(1) ):\n",
    "        self.hight = hight\n",
    "        self.radius = radius\n",
    "    \n",
    "    def cylinder_volume(self):\n",
    "        return (self.Pi*(self.radius**2)*self.hight)\n",
    "    \n",
    "    def cylinder_surface_area(self):\n",
    "        return (2*self.Pi*self.radius*(self.hight+self.radius))\n",
    "    \n",
    "    def cylinder_curved_surface_area(self):\n",
    "        return (2*self.Pi*self.radius*self.hight)\n",
    "\n",
    "# pass co-ordinates\n",
    "hight = float(2)\n",
    "radius = float(3)\n",
    "\n",
    "cylindeclass = Cylinder(hight,radius)\n",
    "print(\"volume of a cylinder is\",cylindeclass.cylinder_volume())\n",
    "print(\"curved surface area of a cylinder is\",cylindeclass.cylinder_curved_surface_area())\n",
    "print(\"surface area of cylinder is\",cylindeclass.cylinder_surface_area())"
   ]
  },
  {
   "cell_type": "code",
   "execution_count": null,
   "metadata": {},
   "outputs": [
    {
     "name": "stdout",
     "output_type": "stream",
     "text": [
      "Hello MyFullname, Welcome to MyBank service.\n",
      "Enter the amount in Rs 100\n",
      "The amount deposited to your account is Rs:100/-.\n",
      "Do you want to deposit again press yes\n"
     ]
    }
   ],
   "source": [
    "# Create class for bank Account for individual banking\n",
    "# Details of account holders\n",
    "\n",
    "\n",
    "class BankAccount():\n",
    "   \n",
    "    # bank details (main class attributes)\n",
    "    name_of_bank = \"MyBank\"\n",
    "    branch_of_bank = \"MyBranch\"\n",
    "    ifsc_code = \"MB0000\"\n",
    "    name_account_holder = \"MyFullname\"\n",
    "    account_number = \"123456789\"\n",
    "    \n",
    "    def __init__(self,current_balance = 0):\n",
    "        self.current_balance = current_balance\n",
    "        print(\"Hello {}, Welcome to {} service.\".format(self.name_account_holder,self.name_of_bank))\n",
    "       \n",
    "    def account_holder_details(self):\n",
    "        pass\n",
    "    def money_deposit(self,money,deposit_money):\n",
    "        self.current_balance = self.current_balance + money\n",
    "        print(\"The amount deposited to your account is Rs:{}/-.\".format(money))\n",
    "        \n",
    "    def money_transfer(self):\n",
    "        pass\n",
    "    def money_withdaw(self):\n",
    "        pass\n",
    "    def interst_rates(self):\n",
    "        pass\n",
    "    def check_balance(self):\n",
    "        print(\"Current balance in your bank account is Rs:{}/-.\".format(self.current_balance))\n",
    "\n",
    "my_banking = BankAccount()\n",
    "\n",
    "deposit_money = True\n",
    "money = input(\"Enter the amount in Rs \")\n",
    "my_banking.money_deposit(int(money),deposit_money)\n",
    "money_new =input(\"Do you want to deposit again press Yes or No\")\n",
    "my_banking.check_balance()\n",
    "\n",
    "\n"
   ]
  },
  {
   "cell_type": "code",
   "execution_count": 115,
   "metadata": {},
   "outputs": [],
   "source": [
    "#\n"
   ]
  },
  {
   "cell_type": "code",
   "execution_count": 44,
   "metadata": {},
   "outputs": [
    {
     "name": "stdout",
     "output_type": "stream",
     "text": [
      "Name of account holder: Chetankumar \n",
      "Balance amount: Rs 500/- \n",
      "\n",
      "The amount, Rs 100/- is deposited to your account.\n",
      "\n",
      "Name of account holder: Chetankumar \n",
      "Balance amount: Rs 600/- \n",
      "\n",
      "The amount, Rs 100/- is withdraw from your account.\n",
      "\n",
      "Name of account holder: Chetankumar \n",
      "Balance amount: Rs 500/- \n",
      "\n",
      "The amount, Rs 100/- is withdraw from your account.\n",
      "\n",
      "Name of account holder: Chetankumar \n",
      "Balance amount: Rs 400/- \n",
      "\n",
      "Soory, Not enough balance in your account!\n",
      "Balance amount: Rs 400/-\n",
      "\n",
      "The amount, Rs 100/- is withdraw from your account.\n",
      "\n",
      "Name of account holder: Chetankumar \n",
      "Balance amount: Rs 300/- \n",
      "\n"
     ]
    }
   ],
   "source": [
    "# class Account\n",
    "\n",
    "class Account():\n",
    "    \n",
    "    def __init__(self, account_holder, balance = 0):\n",
    "        \n",
    "        self.account_holder = account_holder\n",
    "        self.balance = balance\n",
    "    \n",
    "    def deposit(self,deposit_amount):\n",
    "        \n",
    "        self.balance += deposit_amount\n",
    "        print(f\"The amount, Rs {deposit_amount}/- is deposited to your account.\\n\")\n",
    "    \n",
    "    def withdraw(self,withdraw_ammount):\n",
    "        \n",
    "        if self.balance >= withdraw_ammount:\n",
    "            self.balance -= withdraw_ammount\n",
    "            print(f\"The amount, Rs {withdraw_ammount}/- is withdraw from your account.\\n\")\n",
    "        else:\n",
    "            print(\"Soory, Not enough balance in your account!\")\n",
    "            print(f\"Balance amount: Rs {self.balance}/-\\n\")\n",
    "            \n",
    "    def __str__(self):\n",
    "        return f\"Name of account holder: {self.account_holder} \\nBalance amount: Rs {self.balance}/-\"\n",
    "    \n",
    "banking = Account('Chetankumar',500)\n",
    "\n",
    "print(banking,\"\\n\")\n",
    "banking.deposit(100)\n",
    "print(banking,\"\\n\")\n",
    "banking.withdraw(100)\n",
    "print(banking,\"\\n\")\n",
    "banking.withdraw(100)\n",
    "print(banking,\"\\n\")\n",
    "banking.withdraw(500)\n",
    "banking.withdraw(100)\n",
    "print(banking,\"\\n\")\n"
   ]
  },
  {
   "cell_type": "code",
   "execution_count": 22,
   "metadata": {
    "scrolled": true
   },
   "outputs": [
    {
     "name": "stdout",
     "output_type": "stream",
     "text": [
      "Qazi:100\n",
      "Chetan:100\n",
      "Chetan Attacked On Qazi!\n",
      "Chetan:100\n",
      "Qazi:90\n",
      "Qazi Attacked On Chetan!\n",
      "Chetan:90\n",
      "Qazi:90\n"
     ]
    }
   ],
   "source": [
    "# OOPs concepts from Clever Programmer by Qazi.\n",
    "# class,\n",
    "# object\n",
    "# method\n",
    "# attributes\n",
    "# instance\n",
    "\n",
    "class Fighter():\n",
    "    \n",
    "    def __init__(self,name):\n",
    "        self.name = name\n",
    "        self.health = health = 100\n",
    "        self.damage = damage = 10\n",
    "    \n",
    "    def attack(self,other_guy):\n",
    "        other_guy.health -=  self.damage\n",
    "        #self.health -= self.damage\n",
    "        print('{} Attacked On {}!'.format(self.name, other_guy.name))\n",
    "    \n",
    "    def __str__(self):\n",
    "        return (f'{self.name}:{self.health}')\n",
    "    \n",
    "\n",
    "qazi = Fighter('Qazi')\n",
    "print(qazi)\n",
    "\n",
    "chetan = Fighter('Chetan')\n",
    "print(chetan)\n",
    "\n",
    "chetan.attack(qazi)\n",
    "print(chetan)\n",
    "print(qazi)\n",
    "\n",
    "qazi.attack(chetan)\n",
    "print(chetan)\n",
    "print(qazi)\n"
   ]
  },
  {
   "cell_type": "code",
   "execution_count": null,
   "metadata": {},
   "outputs": [],
   "source": []
  },
  {
   "cell_type": "code",
   "execution_count": null,
   "metadata": {},
   "outputs": [],
   "source": []
  }
 ],
 "metadata": {
  "kernelspec": {
   "display_name": "Python 3",
   "language": "python",
   "name": "python3"
  },
  "language_info": {
   "codemirror_mode": {
    "name": "ipython",
    "version": 3
   },
   "file_extension": ".py",
   "mimetype": "text/x-python",
   "name": "python",
   "nbconvert_exporter": "python",
   "pygments_lexer": "ipython3",
   "version": "3.7.3"
  }
 },
 "nbformat": 4,
 "nbformat_minor": 2
}
