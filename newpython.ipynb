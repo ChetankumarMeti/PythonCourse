{
 "cells": [
  {
   "cell_type": "code",
   "execution_count": 15,
   "metadata": {},
   "outputs": [
    {
     "name": "stdout",
     "output_type": "stream",
     "text": [
      "3.1454296112060547\n",
      "3.14543\n"
     ]
    }
   ],
   "source": [
    "print((3.14543+1e10)-1e10)\n",
    "print(3.14543+(1e10-1e10))"
   ]
  },
  {
   "cell_type": "code",
   "execution_count": 18,
   "metadata": {},
   "outputs": [
    {
     "name": "stdout",
     "output_type": "stream",
     "text": [
      "3000000000\n"
     ]
    }
   ],
   "source": [
    "print(100*200*300*500)"
   ]
  },
  {
   "cell_type": "markdown",
   "metadata": {},
   "source": [
    "my_list = [1, 2]\n",
    "my_list\n"
   ]
  },
  {
   "cell_type": "code",
   "execution_count": 19,
   "metadata": {},
   "outputs": [
    {
     "name": "stdout",
     "output_type": "stream",
     "text": [
      "100\n",
      "841\n",
      "1024\n",
      "1936\n",
      "4489\n",
      "2500\n"
     ]
    }
   ],
   "source": [
    "def squre(num):\n",
    "    return num ** 2\n",
    "\n",
    "mynum_list = [10,29,32,44,67,50]\n",
    "for item in map(squre, mynum_list):\n",
    "    print(item)\n",
    "    "
   ]
  },
  {
   "cell_type": "code",
   "execution_count": 22,
   "metadata": {
    "scrolled": true
   },
   "outputs": [
    {
     "name": "stdout",
     "output_type": "stream",
     "text": [
      "[1, 4, 9, 16, 25]\n"
     ]
    }
   ],
   "source": [
    "mynum_list = [1,2,3,4, 5]\n",
    "sqr_list = list(map(squre, mynum_list))\n",
    "print(sqr_list)"
   ]
  },
  {
   "cell_type": "code",
   "execution_count": 29,
   "metadata": {},
   "outputs": [
    {
     "data": {
      "text/plain": [
       "['EVEN', 'n', 'EVEN', 'f']"
      ]
     },
     "execution_count": 29,
     "metadata": {},
     "output_type": "execute_result"
    }
   ],
   "source": [
    "def spicer(my_strings):\n",
    "    if len(my_strings) % 2 == 0:\n",
    "        return 'EVEN'\n",
    "    else:\n",
    "        return my_strings[0]\n",
    "\n",
    "my_strings = ['last','new','item','first']\n",
    "list(map(spicer,my_strings))"
   ]
  },
  {
   "cell_type": "code",
   "execution_count": 44,
   "metadata": {},
   "outputs": [],
   "source": [
    "def repeat3(str_char):\n",
    "    return str_char*3"
   ]
  },
  {
   "cell_type": "code",
   "execution_count": 68,
   "metadata": {},
   "outputs": [
    {
     "name": "stdout",
     "output_type": "stream",
     "text": [
      "HHHooowww\n",
      "('ccc', 'hhh', 'eee', 'ttt', 'aaa', 'nnn')\n"
     ]
    }
   ],
   "source": [
    "newitem =''\n",
    "for item in map(repeat3,'How'):\n",
    "    newitem = newitem+item\n",
    "\n",
    "print(newitem)\n",
    "    \n",
    "\n",
    "newlst = tuple(map(repeat3,'chetan'))\n",
    "print(newlst)"
   ]
  },
  {
   "cell_type": "code",
   "execution_count": null,
   "metadata": {},
   "outputs": [],
   "source": [
    "lambda "
   ]
  },
  {
   "cell_type": "code",
   "execution_count": null,
   "metadata": {},
   "outputs": [],
   "source": []
  }
 ],
 "metadata": {
  "kernelspec": {
   "display_name": "Python 3",
   "language": "python",
   "name": "python3"
  },
  "language_info": {
   "codemirror_mode": {
    "name": "ipython",
    "version": 3
   },
   "file_extension": ".py",
   "mimetype": "text/x-python",
   "name": "python",
   "nbconvert_exporter": "python",
   "pygments_lexer": "ipython3",
   "version": "3.7.3"
  }
 },
 "nbformat": 4,
 "nbformat_minor": 2
}
